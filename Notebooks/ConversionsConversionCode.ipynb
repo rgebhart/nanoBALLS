{
 "cells": [
  {
   "cell_type": "code",
   "execution_count": 150,
   "metadata": {},
   "outputs": [],
   "source": [
    "import os\n",
    "import cv2\n",
    "import pytesseract\n",
    "import numpy as np\n",
    "import pandas as pd\n",
    "import PIL.ImageOps\n",
    "import PIL.Image as Image\n",
    "from matplotlib import pyplot as plt"
   ]
  },
  {
   "cell_type": "markdown",
   "metadata": {},
   "source": [
    "### Code requires Tesseract OCR software\n",
    "#### Can be installed from https://pypi.org/project/pytesseract/\n",
    "Make sure to add the tesseract executable to your PATH as shown below"
   ]
  },
  {
   "cell_type": "code",
   "execution_count": 183,
   "metadata": {},
   "outputs": [],
   "source": [
    "pytesseract.pytesseract.tesseract_cmd = r'C:\\Program Files (x86)\\Tesseract-OCR\\tesseract'"
   ]
  },
  {
   "cell_type": "code",
   "execution_count": 184,
   "metadata": {},
   "outputs": [],
   "source": [
    "conv = pd.read_csv('ConversionFactors.csv') #Tabulated conversion factors"
   ]
  },
  {
   "cell_type": "code",
   "execution_count": 185,
   "metadata": {},
   "outputs": [],
   "source": [
    "img = cv2.imread(\"R5 K3K4Me3 SiO2_3-5_6500.TIF\") #Image to be analyzed"
   ]
  },
  {
   "cell_type": "code",
   "execution_count": 186,
   "metadata": {},
   "outputs": [],
   "source": [
    "magCrop = img[445:460, 160:243] #Crops image to magnification details, increases reliability of OCR\n",
    "magCropInv = cv2.bitwise_not(magCrop) #Inverts colors, black on white text is easier for OCR software to read\n",
    "mag = int(pytesseract.image_to_string(Image.fromarray(magCropInv))[:-1]) #Converts image to text, removes 'x' from magnification level, makes integer"
   ]
  },
  {
   "cell_type": "code",
   "execution_count": 187,
   "metadata": {},
   "outputs": [],
   "source": [
    "row = conv.loc[conv['Mag'] == mag] #Finds row that matches the magnification value\n",
    "convFactor = row.iloc[0]['Conversion'] #Gets conversion factor from row"
   ]
  },
  {
   "cell_type": "code",
   "execution_count": 188,
   "metadata": {},
   "outputs": [
    {
     "name": "stdout",
     "output_type": "stream",
     "text": [
      "Magnification Level: 6500\n",
      "Conversion Factor: 68.96551724\n"
     ]
    }
   ],
   "source": [
    "print(\"Magnification Level: \" + str(mag))\n",
    "print(\"Conversion Factor: \" + str(convFactor))"
   ]
  },
  {
   "cell_type": "code",
   "execution_count": null,
   "metadata": {},
   "outputs": [],
   "source": []
  }
 ],
 "metadata": {
  "kernelspec": {
   "display_name": "Python 3",
   "language": "python",
   "name": "python3"
  },
  "language_info": {
   "codemirror_mode": {
    "name": "ipython",
    "version": 3
   },
   "file_extension": ".py",
   "mimetype": "text/x-python",
   "name": "python",
   "nbconvert_exporter": "python",
   "pygments_lexer": "ipython3",
   "version": "3.6.8"
  }
 },
 "nbformat": 4,
 "nbformat_minor": 2
}
