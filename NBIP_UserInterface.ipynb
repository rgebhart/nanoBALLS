{
 "cells": [
  {
   "cell_type": "markdown",
   "metadata": {},
   "source": [
    "# Image Analysis of SEM Nanoparticles\n",
    "\n",
    "## Purpose\n",
    "\n",
    "The purpose of this Python notebook is to take an input of a .TIF image file and return image analysis detailing the average particle size, the distribution of radii (with statistical measures), and a measure of how circular or elipsoidal the particles are.\n",
    "\n",
    "### How to use this notebook\n",
    "Good news, this should be simple to use!  All we need from you is that you install Python 2.7 or later (if you can run this, you've done good so far), make sure you have installed all of the packages needed, for you to drop your SEM Images into a folder on your computer, and type in the name where we tell you to.  We'll handle the rest from there.  As a hint, tab completion is your friend, and can help you avoid spelling mistakes!\n",
    "\n",
    "### A few examples of what this file naming scheme looks like:\n",
    "\n",
    "#### Example 1: \n",
    "Image (img.TIF) is in the SEM_Images folder within the NBIP program folder:\n",
    "\n",
    "    imageFile = cv2.imread('SEM_Images/img.TIF')\n",
    "\n",
    "Which is pretty straightforward!  If you make subfolders for each project inside of the SEM_Images folder, you can tack those on to the file directory, e.g.\n",
    "    \n",
    "    imageFile = cv2.imread('SEM_Images/DarkTable_Edits/img.tif')\n",
    "\n",
    "#### Example 2:\n",
    "Image (img.TIF) is in a whole other working directory, such as your Downloads folder:\n",
    "\n",
    "    imageFile = cv2.imread('~/Downloads/'img.tif')\n",
    "    \n",
    "This is a little more difficult to work with, since you will have to input the entire file path to the file in question, but still totally manageable!\n",
    "\n",
    "###  So, let's get started!\n",
    "The next line here is not one you probably want to mess with - it loads some libraries that we need to have to let the program work.  If you have any further questions about what the code is doing, how it is doing it, and how to modify things, feel free to check out the /Documentation/ folder in the repository."
   ]
  },
  {
   "cell_type": "code",
   "execution_count": 1,
   "metadata": {},
   "outputs": [],
   "source": [
    "import cv2\n",
    "import imageseg"
   ]
  },
  {
   "cell_type": "markdown",
   "metadata": {},
   "source": [
    "### Okay, this is where you take over!\n",
    "The line below actually imports the file and starts to work on it.  Type in the file path, like shown in the examples above, jump up to the toolbar at the top of this notebook, and select Kernel->Restart & Run All.  If you get an error, skip down to the last line and see what it says.  Google and Stack Overflow will be your friends here!"
   ]
  },
  {
   "cell_type": "code",
   "execution_count": 2,
   "metadata": {},
   "outputs": [],
   "source": [
    "# Edit this cell!\n",
    "imageFile = cv2.imread('/SEM_Images/DarkTable_Edits/R5 K3Me3 SiO2_2-3.TIF')"
   ]
  },
  {
   "cell_type": "code",
   "execution_count": 8,
   "metadata": {},
   "outputs": [
    {
     "ename": "SystemError",
     "evalue": "new style getargs format but argument is not a tuple",
     "output_type": "error",
     "traceback": [
      "\u001b[0;31m---------------------------------------------------------------------------\u001b[0m",
      "\u001b[0;31mSystemError\u001b[0m                               Traceback (most recent call last)",
      "\u001b[0;32m<ipython-input-8-1c889aab3fa6>\u001b[0m in \u001b[0;36m<module>\u001b[0;34m\u001b[0m\n\u001b[1;32m     15\u001b[0m \u001b[0;34m\u001b[0m\u001b[0m\n\u001b[1;32m     16\u001b[0m \u001b[0;31m#Averaging\u001b[0m\u001b[0;34m\u001b[0m\u001b[0;34m\u001b[0m\u001b[0;34m\u001b[0m\u001b[0m\n\u001b[0;32m---> 17\u001b[0;31m \u001b[0mavg_blur\u001b[0m \u001b[0;34m=\u001b[0m \u001b[0mcv\u001b[0m\u001b[0;34m.\u001b[0m\u001b[0mblur\u001b[0m\u001b[0;34m(\u001b[0m\u001b[0mimageFile\u001b[0m\u001b[0;34m,\u001b[0m\u001b[0mkernel\u001b[0m\u001b[0;34m)\u001b[0m\u001b[0;34m\u001b[0m\u001b[0;34m\u001b[0m\u001b[0m\n\u001b[0m\u001b[1;32m     18\u001b[0m \u001b[0;31m#Gaussian Blurring\u001b[0m\u001b[0;34m\u001b[0m\u001b[0;34m\u001b[0m\u001b[0;34m\u001b[0m\u001b[0m\n\u001b[1;32m     19\u001b[0m \u001b[0mgauss_blur\u001b[0m \u001b[0;34m=\u001b[0m \u001b[0mcv\u001b[0m\u001b[0;34m.\u001b[0m\u001b[0mGaussianBlur\u001b[0m\u001b[0;34m(\u001b[0m\u001b[0mimageFile\u001b[0m\u001b[0;34m,\u001b[0m\u001b[0mkernel\u001b[0m\u001b[0;34m,\u001b[0m\u001b[0;36m0\u001b[0m\u001b[0;34m)\u001b[0m\u001b[0;34m\u001b[0m\u001b[0;34m\u001b[0m\u001b[0m\n",
      "\u001b[0;31mSystemError\u001b[0m: new style getargs format but argument is not a tuple"
     ]
    }
   ],
   "source": [
    "#proccessedImage, locations = imageseg.imageseg(imageFile)\n",
    "\n",
    "#ret, binary = cv2.threshold(imageFile,0,255,cv2.THRESH_BINARY_INV+cv2.THRESH_OTSU)\n",
    "#distTransform = ndimage.distance_transform_bf(binary)\n",
    "#localMax = peak_local_max(distTransform, indices=False, min_distance=20,labels=binary)\n",
    "#label = ndimage.label(localMax)[0]\n",
    "#segments = watershed(-distTransform, label, mask=binary)\n",
    "\n",
    "import cv2 as cv\n",
    "import numpy as np\n",
    "from matplotlib import pyplot as plt\n",
    "\n",
    "img = cv.imread('TestBlur.TIF')\n",
    "kernel = np.ones((5,6))\n",
    "\n",
    "#Averaging\n",
    "avg_blur = cv.blur(imageFile,kernel)\n",
    "#Gaussian Blurring\n",
    "gauss_blur = cv.GaussianBlur(imageFile,kernel,0)\n",
    "#Median Blurring\n",
    "median_blur =cv.medianBlur(img,5)\n",
    "#Bilateral Filtering\n",
    "Bi_blur = cv.bilateralFilter(img,9,75,75)\n",
    "\n",
    "fig, ((ax1,ax2,ax3),(ax4,ax5,ax6)) = plt.subplots(2,3,figsize = (50,50))\n",
    "\n",
    "ax1.imshow(img)\n",
    "ax1.title.set_text('Original')\n",
    "\n",
    "ax2.imshow(avg_blur)\n",
    "ax2.title.set_text('avg_blur')\n",
    "\n",
    "ax3.imshow(gauss_blur)\n",
    "ax3.title.set_text('gauss_blur')\n",
    "\n",
    "ax4.imshow(median_blur)\n",
    "ax4.title.set_text('median_blur')\n",
    "\n",
    "ax5.imshow(Bi_blur)\n",
    "ax5.title.set_text('Bi_blur')\n"
   ]
  },
  {
   "cell_type": "code",
   "execution_count": null,
   "metadata": {},
   "outputs": [],
   "source": []
  }
 ],
 "metadata": {
  "kernelspec": {
   "display_name": "Python 3",
   "language": "python",
   "name": "python3"
  },
  "language_info": {
   "codemirror_mode": {
    "name": "ipython",
    "version": 3
   },
   "file_extension": ".py",
   "mimetype": "text/x-python",
   "name": "python",
   "nbconvert_exporter": "python",
   "pygments_lexer": "ipython3",
   "version": "3.6.8"
  }
 },
 "nbformat": 4,
 "nbformat_minor": 2
}
